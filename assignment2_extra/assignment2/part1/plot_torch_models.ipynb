{
  "nbformat": 4,
  "nbformat_minor": 0,
  "metadata": {
    "colab": {
      "provenance": []
    },
    "kernelspec": {
      "name": "python3",
      "display_name": "Python 3"
    },
    "language_info": {
      "name": "python"
    },
    "accelerator": "GPU",
    "gpuClass": "standard"
  },
  "cells": [
    {
      "cell_type": "code",
      "execution_count": 1,
      "metadata": {
        "colab": {
          "base_uri": "https://localhost:8080/"
        },
        "id": "IkmIqYsMuyIW",
        "outputId": "f178f814-592b-4ba8-9126-4f0001e9b055"
      },
      "outputs": [
        {
          "output_type": "stream",
          "name": "stdout",
          "text": [
            "Using device cuda:0\n"
          ]
        }
      ],
      "source": [
        "import argparse\n",
        "import numpy as np\n",
        "import torch\n",
        "import torch.nn as nn\n",
        "import torch.nn.functional as F\n",
        "import torch.utils.data as data\n",
        "import torchvision.models as models\n",
        "import matplotlib.pyplot as plt \n",
        "\n",
        "# Ensure that all operations are deterministic on GPU (if used) for reproducibility\n",
        "torch.backends.cudnn.deterministic = True\n",
        "torch.backends.cudnn.benchmark = False\n",
        "\n",
        "# Fetching the device that will be used throughout this notebook\n",
        "device = torch.device(\"cpu\") if not torch.cuda.is_available() else torch.device(\"cuda:0\")\n",
        "print(\"Using device\", device)\n",
        "\n",
        "torch.cuda.is_available() \n",
        "\n",
        "random_image = torch.randn(1, 3,224,224, dtype=torch.float).to(device)\n"
      ]
    },
    {
      "cell_type": "code",
      "source": [
        "# Plot for VGG11, VGG11 with batch normalization, ResNet18, ResNet34, DenseNet121 and MobileNet-v3-Small\n",
        "\n",
        "pretrained_models = [models.vgg11(weights='DEFAULT'), models.vgg11_bn(weights='DEFAULT'), models.resnet18(weights='DEFAULT')\\\n",
        "          , models.resnet34(weights='DEFAULT'), models.densenet121(weights='DEFAULT'), models.mobilenet_v3_small(weights='DEFAULT')]"
      ],
      "metadata": {
        "id": "nGGu2maWy97H"
      },
      "execution_count": 2,
      "outputs": []
    },
    {
      "cell_type": "code",
      "source": [
        "params_list = []\n",
        "inference_speed = []\n",
        "\n",
        "\n",
        "for model in pretrained_models:\n",
        "  model.to(device)\n",
        "  model.eval()\n",
        "  with torch.no_grad():\n",
        "    model_parameters = filter(lambda p: p.requires_grad, model.parameters())\n",
        "    number_of_params = sum([np.prod(p.size()) for p in model_parameters])\n",
        "\n",
        "  params_list.append(number_of_params)\n",
        "\n",
        "  start_time,end_time= torch.cuda.Event(enable_timing=True), torch.cuda.Event(enable_timing=True)\n",
        "  repetitions = 100\n",
        "  timings=np.zeros((repetitions,1))\n",
        "\n",
        "  for i in range(10):\n",
        "      warm_up = model(random_image)\n",
        "  with torch.no_grad():\n",
        "      for repetition in range(repetitions):\n",
        "          start_time.record()\n",
        "          y_hat = model(random_image)\n",
        "          end_time.record()\n",
        "          # WAIT FOR GPU SYNC\n",
        "          torch.cuda.synchronize()\n",
        "          curr_time = start_time.elapsed_time(end_time)\n",
        "          timings[repetition] = curr_time\n",
        "  mean_syn = np.sum(timings) / repetitions\n",
        "  inference_speed.append(mean_syn)\n",
        "  std_syn = np.std(timings)\n",
        "print(params_list)\n",
        "print(inference_speed)\n"
      ],
      "metadata": {
        "colab": {
          "base_uri": "https://localhost:8080/"
        },
        "id": "fxll1rgI0S0y",
        "outputId": "f75f6bf3-a5de-4a64-d57b-87d607b324f7"
      },
      "execution_count": 3,
      "outputs": [
        {
          "output_type": "stream",
          "name": "stdout",
          "text": [
            "[132863336, 132868840, 11689512, 21797672, 7978856, 2542856]\n",
            "[7.81566782951355, 8.019976959228515, 10.87385272026062, 12.451605467796325, 22.66421533584595, 7.262671689987183]\n"
          ]
        }
      ]
    },
    {
      "cell_type": "code",
      "source": [
        "from matplotlib import axes\n",
        "#plot inference over accuracy @5\n",
        "model_names = ['VGG11', 'VGG11_bn', 'ResNet18', 'ResNet34', 'DenseNet121', 'MobileNet-v3-Small']\n",
        "#All accuracies are reported @1\n",
        "accuracy = [69.02, 70.37, 69.758, 73.314, 74.434,67.668]\n",
        "\n",
        "plt.scatter(inference_speed, accuracy)\n",
        "for i, name in enumerate(model_names): \n",
        "  xy = (inference_speed[i], accuracy[i])\n",
        "  plt.annotate(name, xy)\n",
        "plt.title('inference speed vs accuracy')\n",
        "plt.show()\n",
        "\n"
      ],
      "metadata": {
        "colab": {
          "base_uri": "https://localhost:8080/",
          "height": 281
        },
        "id": "4r755x4T7BG3",
        "outputId": "9fe34f8b-e546-41fe-c21d-a76336a445d8"
      },
      "execution_count": 4,
      "outputs": [
        {
          "output_type": "display_data",
          "data": {
            "text/plain": [
              "<Figure size 432x288 with 1 Axes>"
            ],
            "image/png": "[encoded data removed]"
          },
          "metadata": {
            "needs_background": "light"
          }
        }
      ]
    },
    {
      "cell_type": "code",
      "source": [
        "params_list = []\n",
        "inference_speed_ = []\n",
        "\n",
        "\n",
        "for model in pretrained_models:\n",
        "  model.to(device)\n",
        "  model.eval()\n",
        "  with torch.no_grad():\n",
        "    model_parameters = filter(lambda p: p.requires_grad, model.parameters())\n",
        "    number_of_params = sum([np.prod(p.size()) for p in model_parameters])\n",
        "\n",
        "  params_list.append(number_of_params)\n",
        "\n",
        "  start_time,end_time= torch.cuda.Event(enable_timing=True), torch.cuda.Event(enable_timing=True)\n",
        "  repetitions = 100\n",
        "  timings=np.zeros((repetitions,1))\n",
        "\n",
        "  for i in range(10):\n",
        "      warm_up = model(random_image)\n",
        "      for repetition in range(repetitions):\n",
        "          start_time.record()\n",
        "          y_hat = model(random_image)\n",
        "          end_time.record()\n",
        "          # WAIT FOR GPU SYNC\n",
        "          torch.cuda.synchronize()\n",
        "          curr_time = start_time.elapsed_time(end_time)\n",
        "          timings[repetition] = curr_time\n",
        "  mean_syn = np.sum(timings) / repetitions\n",
        "  inference_speed_.append(mean_syn)\n",
        "  std_syn = np.std(timings)\n",
        "print(params_list)\n",
        "print(inference_speed)"
      ],
      "metadata": {
        "colab": {
          "base_uri": "https://localhost:8080/"
        },
        "id": "-eMKCnOCXOeR",
        "outputId": "ecddd99c-4e97-47e8-ad4a-e67a6a0f56d9"
      },
      "execution_count": 5,
      "outputs": [
        {
          "output_type": "stream",
          "name": "stdout",
          "text": [
            "[132863336, 132868840, 11689512, 21797672, 7978856, 2542856]\n",
            "[7.81566782951355, 8.019976959228515, 10.87385272026062, 12.451605467796325, 22.66421533584595, 7.262671689987183]\n"
          ]
        }
      ]
    },
    {
      "cell_type": "code",
      "source": [
        "model_names = ['VGG11', 'VGG11_bn', 'ResNet18', 'ResNet34', 'DenseNet121', 'MobileNet-v3-Small']\n",
        "X_axis = np.arange(len(model_names))\n",
        "\n",
        "plt.bar(X_axis - 0.2, inference_speed , 0.4, label=\"No grad\")\n",
        "plt.bar(X_axis + 0.2, inference_speed_, 0.4,label=\"With grad\")\n",
        "\n",
        "  \n",
        "plt.xticks(X_axis, model_names)\n",
        "plt.xlabel(\"Models\")\n",
        "plt.ylabel(\"Inference time\")\n",
        "plt.title(\"Inference time used with/without grad\")\n",
        "\n",
        "plt.legend()\n",
        "plt.show()"
      ],
      "metadata": {
        "colab": {
          "base_uri": "https://localhost:8080/",
          "height": 296
        },
        "id": "erLc5q-nNlGB",
        "outputId": "9d978a0b-9757-4c57-9239-160870899d2b"
      },
      "execution_count": 6,
      "outputs": [
        {
          "output_type": "display_data",
          "data": {
            "text/plain": [
              "<Figure size 432x288 with 1 Axes>"
            ],
            "image/png": "[encoded data removed]"
          },
          "metadata": {
            "needs_background": "light"
          }
        }
      ]
    },
    {
      "cell_type": "code",
      "source": [
        "#plot inference over parameters \n",
        "\n",
        "plt.scatter(params_list ,accuracy)\n",
        "for i, name in enumerate(model_names): \n",
        "  xy = (params_list[i], accuracy[i])\n",
        "  plt.annotate(name, xy)\n",
        "plt.title('parameters vs accuracy')\n",
        "plt.show()\n"
      ],
      "metadata": {
        "colab": {
          "base_uri": "https://localhost:8080/",
          "height": 294
        },
        "id": "n6JmI_Sj7Fmf",
        "outputId": "ae8512fc-1325-4f8e-8feb-80a18aad756f"
      },
      "execution_count": 7,
      "outputs": [
        {
          "output_type": "display_data",
          "data": {
            "text/plain": [
              "<Figure size 432x288 with 1 Axes>"
            ],
            "image/png": "[encoded data removed]"
          },
          "metadata": {
            "needs_background": "light"
          }
        }
      ]
    },
    {
      "cell_type": "code",
      "source": [
        "#plot inference over RAM usage with vs without no-grad \n",
        "\n",
        "#function with no grad\n",
        "mem_no_grad = []\n",
        "random_image_64 = torch.randn(64, 3,224,224).to(device)\n",
        "for model in pretrained_models:\n",
        "  with torch.no_grad():\n",
        "      model.to(device)\n",
        "      model.eval()\n",
        "      y_hat = model(random_image_64)\n",
        "      mem_no_grad.append(torch.cuda.memory_allocated()/1000000)\n",
        "      torch.cuda.empty_cache()\n",
        "  del model\n",
        "\n"
      ],
      "metadata": {
        "id": "Cir2a1j27JG9"
      },
      "execution_count": 8,
      "outputs": []
    },
    {
      "cell_type": "code",
      "source": [
        "#from torch.nn.modules.container import ModuleList\n",
        "#import tqdm\n",
        "#plot inference over RAM usage with vs without no-grad \n",
        "\n",
        "#function with grad\n",
        "mem_with_grad = []\n",
        "random_image_64 = torch.randn(64, 3,224,224).to(device)\n",
        "for model in pretrained_models:\n",
        "  print(f'Evaluating {model.__class__}...')\n",
        "  model.to(device)\n",
        "  model.eval()\n",
        "  warm_up = model(random_image)\n",
        "  mem_with_grad.append(torch.cuda.memory_allocated()/1000000)\n",
        "  del model \n"
      ],
      "metadata": {
        "colab": {
          "base_uri": "https://localhost:8080/"
        },
        "id": "ipG0HqAGq3F4",
        "outputId": "522c25df-4493-4762-c7ae-8483ded9c201"
      },
      "execution_count": 9,
      "outputs": [
        {
          "output_type": "stream",
          "name": "stdout",
          "text": [
            "Evaluating <class 'torchvision.models.vgg.VGG'>...\n",
            "Evaluating <class 'torchvision.models.vgg.VGG'>...\n",
            "Evaluating <class 'torchvision.models.resnet.ResNet'>...\n",
            "Evaluating <class 'torchvision.models.resnet.ResNet'>...\n",
            "Evaluating <class 'torchvision.models.densenet.DenseNet'>...\n",
            "Evaluating <class 'torchvision.models.mobilenetv3.MobileNetV3'>...\n"
          ]
        }
      ]
    },
    {
      "cell_type": "code",
      "source": [
        "model_names = ['VGG11', 'VGG11_bn', 'ResNet18', 'ResNet34', 'DenseNet121', 'MobileNet-v3-Small']\n",
        "X_axis = np.arange(len(model_names))\n",
        "\n",
        "plt.bar(X_axis - 0.2, mem_no_grad, 0.4, label=\"No grad\")\n",
        "plt.bar(X_axis + 0.2, mem_with_grad, 0.4, label=\"With grad\")\n",
        "\n",
        "  \n",
        "plt.xticks(X_axis, model_names)\n",
        "plt.xlabel(\"Models\")\n",
        "plt.ylabel(\"Memory allocating\")\n",
        "plt.title(\"Memory used per model\")\n",
        "plt.legend()\n",
        "plt.show()"
      ],
      "metadata": {
        "colab": {
          "base_uri": "https://localhost:8080/",
          "height": 296
        },
        "id": "vi5pf23-cwY2",
        "outputId": "4aeaf90f-6d36-4861-c127-8d43fecd57a9"
      },
      "execution_count": 10,
      "outputs": [
        {
          "output_type": "display_data",
          "data": {
            "text/plain": [
              "<Figure size 432x288 with 1 Axes>"
            ],
            "image/png": "[encoded data removed]"
          },
          "metadata": {
            "needs_background": "light"
          }
        }
      ]
    }
  ]
}