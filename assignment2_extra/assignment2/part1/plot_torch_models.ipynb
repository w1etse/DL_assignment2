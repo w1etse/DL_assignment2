{
  "cells": [
    {
      "cell_type": "code",
      "execution_count": 15,
      "metadata": {
        "colab": {
          "base_uri": "https://localhost:8080/"
        },
        "id": "IkmIqYsMuyIW",
        "outputId": "f178f814-592b-4ba8-9126-4f0001e9b055"
      },
      "outputs": [
        {
          "name": "stdout",
          "output_type": "stream",
          "text": [
            "Using device cpu\n"
          ]
        }
      ],
      "source": [
        "import argparse\n",
        "import numpy as np\n",
        "import torch\n",
        "import torch.nn as nn\n",
        "import torch.nn.functional as F\n",
        "import torch.utils.data as data\n",
        "import torchvision.models as models\n",
        "import matplotlib.pyplot as plt \n",
        "import torchvision.transforms as transforms\n",
        "from PIL import Image\n",
        "from torch.autograd import Variable\n",
        "\n",
        "\n",
        "# Ensure that all operations are deterministic on GPU (if used) for reproducibility\n",
        "torch.backends.cudnn.deterministic = True\n",
        "torch.backends.cudnn.benchmark = False\n",
        "\n",
        "# Fetching the device that will be used throughout this notebook\n",
        "device = torch.device(\"cpu\") if not torch.cuda.is_available() else torch.device(\"cuda:0\")\n",
        "print(\"Using device\", device)\n",
        "\n",
        "torch.cuda.is_available() \n",
        "\n",
        "random_image = torch.randn(1, 3,224,224, dtype=torch.float).to(device)\n"
      ]
    },
    {
      "cell_type": "code",
      "execution_count": 13,
      "metadata": {
        "id": "nGGu2maWy97H"
      },
      "outputs": [],
      "source": [
        "# Plot for VGG11, VGG11 with batch normalization, ResNet18, ResNet34, DenseNet121 and MobileNet-v3-Small\n",
        "\n",
        "pretrained_models = [models.vgg11(weights='DEFAULT'), models.vgg11_bn(weights='DEFAULT'), models.resnet18(weights='DEFAULT')\\\n",
        "          , models.resnet34(weights='DEFAULT'), models.densenet121(weights='DEFAULT'), models.mobilenet_v3_small(weights='DEFAULT')]"
      ]
    },
    {
      "cell_type": "code",
      "execution_count": 14,
      "metadata": {
        "colab": {
          "base_uri": "https://localhost:8080/"
        },
        "id": "fxll1rgI0S0y",
        "outputId": "f75f6bf3-a5de-4a64-d57b-87d607b324f7"
      },
      "outputs": [
        {
          "ename": "RuntimeError",
          "evalue": "Tried to instantiate dummy base class Event",
          "output_type": "error",
          "traceback": [
            "\u001b[1;31m---------------------------------------------------------------------------\u001b[0m",
            "\u001b[1;31mRuntimeError\u001b[0m                              Traceback (most recent call last)",
            "\u001b[1;32mc:\\Users\\WietsevanKooten\\Documents\\studie\\Deep learning\\DL_assignment2\\assignment2_extra\\assignment2\\part1\\plot_torch_models.ipynb Cell 3\u001b[0m line \u001b[0;36m1\n\u001b[0;32m     <a href='vscode-notebook-cell:/c%3A/Users/WietsevanKooten/Documents/studie/Deep%20learning/DL_assignment2/assignment2_extra/assignment2/part1/plot_torch_models.ipynb#W2sZmlsZQ%3D%3D?line=9'>10</a>\u001b[0m   number_of_params \u001b[39m=\u001b[39m \u001b[39msum\u001b[39m([np\u001b[39m.\u001b[39mprod(p\u001b[39m.\u001b[39msize()) \u001b[39mfor\u001b[39;00m p \u001b[39min\u001b[39;00m model_parameters])\n\u001b[0;32m     <a href='vscode-notebook-cell:/c%3A/Users/WietsevanKooten/Documents/studie/Deep%20learning/DL_assignment2/assignment2_extra/assignment2/part1/plot_torch_models.ipynb#W2sZmlsZQ%3D%3D?line=11'>12</a>\u001b[0m params_list\u001b[39m.\u001b[39mappend(number_of_params)\n\u001b[1;32m---> <a href='vscode-notebook-cell:/c%3A/Users/WietsevanKooten/Documents/studie/Deep%20learning/DL_assignment2/assignment2_extra/assignment2/part1/plot_torch_models.ipynb#W2sZmlsZQ%3D%3D?line=13'>14</a>\u001b[0m start_time \u001b[39m=\u001b[39m torch\u001b[39m.\u001b[39;49mcuda\u001b[39m.\u001b[39;49mEvent(enable_timing\u001b[39m=\u001b[39;49m\u001b[39mTrue\u001b[39;49;00m)\n\u001b[0;32m     <a href='vscode-notebook-cell:/c%3A/Users/WietsevanKooten/Documents/studie/Deep%20learning/DL_assignment2/assignment2_extra/assignment2/part1/plot_torch_models.ipynb#W2sZmlsZQ%3D%3D?line=14'>15</a>\u001b[0m end_time \u001b[39m=\u001b[39m torch\u001b[39m.\u001b[39mcuda\u001b[39m.\u001b[39mEvent(enable_timing\u001b[39m=\u001b[39m\u001b[39mTrue\u001b[39;00m)\n\u001b[0;32m     <a href='vscode-notebook-cell:/c%3A/Users/WietsevanKooten/Documents/studie/Deep%20learning/DL_assignment2/assignment2_extra/assignment2/part1/plot_torch_models.ipynb#W2sZmlsZQ%3D%3D?line=15'>16</a>\u001b[0m repetitions \u001b[39m=\u001b[39m \u001b[39m100\u001b[39m\n",
            "File \u001b[1;32mc:\\Users\\WietsevanKooten\\anaconda3\\envs\\dl2023\\Lib\\site-packages\\torch\\cuda\\streams.py:163\u001b[0m, in \u001b[0;36mEvent.__new__\u001b[1;34m(cls, enable_timing, blocking, interprocess)\u001b[0m\n\u001b[0;32m    162\u001b[0m \u001b[39mdef\u001b[39;00m \u001b[39m__new__\u001b[39m(\u001b[39mcls\u001b[39m, enable_timing\u001b[39m=\u001b[39m\u001b[39mFalse\u001b[39;00m, blocking\u001b[39m=\u001b[39m\u001b[39mFalse\u001b[39;00m, interprocess\u001b[39m=\u001b[39m\u001b[39mFalse\u001b[39;00m):\n\u001b[1;32m--> 163\u001b[0m     \u001b[39mreturn\u001b[39;00m \u001b[39msuper\u001b[39;49m()\u001b[39m.\u001b[39;49m\u001b[39m__new__\u001b[39;49m(\n\u001b[0;32m    164\u001b[0m         \u001b[39mcls\u001b[39;49m,\n\u001b[0;32m    165\u001b[0m         enable_timing\u001b[39m=\u001b[39;49menable_timing,\n\u001b[0;32m    166\u001b[0m         blocking\u001b[39m=\u001b[39;49mblocking,\n\u001b[0;32m    167\u001b[0m         interprocess\u001b[39m=\u001b[39;49minterprocess,\n\u001b[0;32m    168\u001b[0m     )\n",
            "File \u001b[1;32mc:\\Users\\WietsevanKooten\\anaconda3\\envs\\dl2023\\Lib\\site-packages\\torch\\cuda\\_utils.py:49\u001b[0m, in \u001b[0;36m_dummy_type.<locals>.get_err_fn.<locals>.err_fn\u001b[1;34m(obj, *args, **kwargs)\u001b[0m\n\u001b[0;32m     47\u001b[0m \u001b[39melse\u001b[39;00m:\n\u001b[0;32m     48\u001b[0m     class_name \u001b[39m=\u001b[39m obj\u001b[39m.\u001b[39m\u001b[39m__name__\u001b[39m\n\u001b[1;32m---> 49\u001b[0m \u001b[39mraise\u001b[39;00m \u001b[39mRuntimeError\u001b[39;00m(\u001b[39mf\u001b[39m\u001b[39m\"\u001b[39m\u001b[39mTried to instantiate dummy base class \u001b[39m\u001b[39m{\u001b[39;00mclass_name\u001b[39m}\u001b[39;00m\u001b[39m\"\u001b[39m)\n",
            "\u001b[1;31mRuntimeError\u001b[0m: Tried to instantiate dummy base class Event"
          ]
        }
      ],
      "source": [
        "params_list = []\n",
        "inference_speed = []\n",
        "\n",
        "\n",
        "for model in pretrained_models:\n",
        "  model.to(device)\n",
        "  model.eval()\n",
        "  with torch.no_grad():\n",
        "    model_parameters = filter(lambda p: p.requires_grad, model.parameters())\n",
        "    number_of_params = sum([np.prod(p.size()) for p in model_parameters])\n",
        "\n",
        "  params_list.append(number_of_params)\n",
        "\n",
        "  start_time = torch.cuda.Event(enable_timing=True)\n",
        "  end_time = torch.cuda.Event(enable_timing=True)\n",
        "  repetitions = 100\n",
        "  timings=np.zeros((repetitions,1))\n",
        "\n",
        "  for i in range(10):\n",
        "      warm_up = model(random_image)\n",
        "  with torch.no_grad():\n",
        "      for repetition in range(repetitions):\n",
        "          start_time.record()\n",
        "          y_hat = model(random_image)\n",
        "          end_time.record()\n",
        "          # WAIT FOR GPU SYNC\n",
        "          torch.cuda.synchronize()\n",
        "          curr_time = start_time.elapsed_time(end_time)\n",
        "          timings[repetition] = curr_time\n",
        "  mean_syn = np.sum(timings) / repetitions\n",
        "  inference_speed.append(mean_syn)\n",
        "  std_syn = np.std(timings)\n",
        "print(params_list)\n",
        "print(inference_speed)\n"
      ]
    },
    {
      "cell_type": "code",
      "execution_count": 9,
      "metadata": {
        "colab": {
          "base_uri": "https://localhost:8080/",
          "height": 281
        },
        "id": "4r755x4T7BG3",
        "outputId": "9fe34f8b-e546-41fe-c21d-a76336a445d8"
      },
      "outputs": [
        {
          "ename": "ValueError",
          "evalue": "x and y must be the same size",
          "output_type": "error",
          "traceback": [
            "\u001b[1;31m---------------------------------------------------------------------------\u001b[0m",
            "\u001b[1;31mValueError\u001b[0m                                Traceback (most recent call last)",
            "\u001b[1;32mc:\\Users\\WietsevanKooten\\Documents\\studie\\Deep learning\\DL_assignment2\\assignment2_extra\\assignment2\\part1\\plot_torch_models.ipynb Cell 4\u001b[0m line \u001b[0;36m7\n\u001b[0;32m      <a href='vscode-notebook-cell:/c%3A/Users/WietsevanKooten/Documents/studie/Deep%20learning/DL_assignment2/assignment2_extra/assignment2/part1/plot_torch_models.ipynb#W3sZmlsZQ%3D%3D?line=3'>4</a>\u001b[0m \u001b[39m#All accuracies are reported @1\u001b[39;00m\n\u001b[0;32m      <a href='vscode-notebook-cell:/c%3A/Users/WietsevanKooten/Documents/studie/Deep%20learning/DL_assignment2/assignment2_extra/assignment2/part1/plot_torch_models.ipynb#W3sZmlsZQ%3D%3D?line=4'>5</a>\u001b[0m accuracy \u001b[39m=\u001b[39m [\u001b[39m69.02\u001b[39m, \u001b[39m70.37\u001b[39m, \u001b[39m69.758\u001b[39m, \u001b[39m73.314\u001b[39m, \u001b[39m74.434\u001b[39m,\u001b[39m67.668\u001b[39m]\n\u001b[1;32m----> <a href='vscode-notebook-cell:/c%3A/Users/WietsevanKooten/Documents/studie/Deep%20learning/DL_assignment2/assignment2_extra/assignment2/part1/plot_torch_models.ipynb#W3sZmlsZQ%3D%3D?line=6'>7</a>\u001b[0m plt\u001b[39m.\u001b[39;49mscatter(inference_speed, accuracy)\n\u001b[0;32m      <a href='vscode-notebook-cell:/c%3A/Users/WietsevanKooten/Documents/studie/Deep%20learning/DL_assignment2/assignment2_extra/assignment2/part1/plot_torch_models.ipynb#W3sZmlsZQ%3D%3D?line=7'>8</a>\u001b[0m \u001b[39mfor\u001b[39;00m i, name \u001b[39min\u001b[39;00m \u001b[39menumerate\u001b[39m(model_names): \n\u001b[0;32m      <a href='vscode-notebook-cell:/c%3A/Users/WietsevanKooten/Documents/studie/Deep%20learning/DL_assignment2/assignment2_extra/assignment2/part1/plot_torch_models.ipynb#W3sZmlsZQ%3D%3D?line=8'>9</a>\u001b[0m   xy \u001b[39m=\u001b[39m (inference_speed[i], accuracy[i])\n",
            "File \u001b[1;32mc:\\Users\\WietsevanKooten\\anaconda3\\envs\\dl2023\\Lib\\site-packages\\matplotlib\\pyplot.py:3687\u001b[0m, in \u001b[0;36mscatter\u001b[1;34m(x, y, s, c, marker, cmap, norm, vmin, vmax, alpha, linewidths, edgecolors, plotnonfinite, data, **kwargs)\u001b[0m\n\u001b[0;32m   3668\u001b[0m \u001b[39m@_copy_docstring_and_deprecators\u001b[39m(Axes\u001b[39m.\u001b[39mscatter)\n\u001b[0;32m   3669\u001b[0m \u001b[39mdef\u001b[39;00m \u001b[39mscatter\u001b[39m(\n\u001b[0;32m   3670\u001b[0m     x: \u001b[39mfloat\u001b[39m \u001b[39m|\u001b[39m ArrayLike,\n\u001b[1;32m   (...)\u001b[0m\n\u001b[0;32m   3685\u001b[0m     \u001b[39m*\u001b[39m\u001b[39m*\u001b[39mkwargs,\n\u001b[0;32m   3686\u001b[0m ) \u001b[39m-\u001b[39m\u001b[39m>\u001b[39m PathCollection:\n\u001b[1;32m-> 3687\u001b[0m     __ret \u001b[39m=\u001b[39m gca()\u001b[39m.\u001b[39;49mscatter(\n\u001b[0;32m   3688\u001b[0m         x,\n\u001b[0;32m   3689\u001b[0m         y,\n\u001b[0;32m   3690\u001b[0m         s\u001b[39m=\u001b[39;49ms,\n\u001b[0;32m   3691\u001b[0m         c\u001b[39m=\u001b[39;49mc,\n\u001b[0;32m   3692\u001b[0m         marker\u001b[39m=\u001b[39;49mmarker,\n\u001b[0;32m   3693\u001b[0m         cmap\u001b[39m=\u001b[39;49mcmap,\n\u001b[0;32m   3694\u001b[0m         norm\u001b[39m=\u001b[39;49mnorm,\n\u001b[0;32m   3695\u001b[0m         vmin\u001b[39m=\u001b[39;49mvmin,\n\u001b[0;32m   3696\u001b[0m         vmax\u001b[39m=\u001b[39;49mvmax,\n\u001b[0;32m   3697\u001b[0m         alpha\u001b[39m=\u001b[39;49malpha,\n\u001b[0;32m   3698\u001b[0m         linewidths\u001b[39m=\u001b[39;49mlinewidths,\n\u001b[0;32m   3699\u001b[0m         edgecolors\u001b[39m=\u001b[39;49medgecolors,\n\u001b[0;32m   3700\u001b[0m         plotnonfinite\u001b[39m=\u001b[39;49mplotnonfinite,\n\u001b[0;32m   3701\u001b[0m         \u001b[39m*\u001b[39;49m\u001b[39m*\u001b[39;49m({\u001b[39m\"\u001b[39;49m\u001b[39mdata\u001b[39;49m\u001b[39m\"\u001b[39;49m: data} \u001b[39mif\u001b[39;49;00m data \u001b[39mis\u001b[39;49;00m \u001b[39mnot\u001b[39;49;00m \u001b[39mNone\u001b[39;49;00m \u001b[39melse\u001b[39;49;00m {}),\n\u001b[0;32m   3702\u001b[0m         \u001b[39m*\u001b[39;49m\u001b[39m*\u001b[39;49mkwargs,\n\u001b[0;32m   3703\u001b[0m     )\n\u001b[0;32m   3704\u001b[0m     sci(__ret)\n\u001b[0;32m   3705\u001b[0m     \u001b[39mreturn\u001b[39;00m __ret\n",
            "File \u001b[1;32mc:\\Users\\WietsevanKooten\\anaconda3\\envs\\dl2023\\Lib\\site-packages\\matplotlib\\__init__.py:1478\u001b[0m, in \u001b[0;36m_preprocess_data.<locals>.inner\u001b[1;34m(ax, data, *args, **kwargs)\u001b[0m\n\u001b[0;32m   1475\u001b[0m \u001b[39m@functools\u001b[39m\u001b[39m.\u001b[39mwraps(func)\n\u001b[0;32m   1476\u001b[0m \u001b[39mdef\u001b[39;00m \u001b[39minner\u001b[39m(ax, \u001b[39m*\u001b[39margs, data\u001b[39m=\u001b[39m\u001b[39mNone\u001b[39;00m, \u001b[39m*\u001b[39m\u001b[39m*\u001b[39mkwargs):\n\u001b[0;32m   1477\u001b[0m     \u001b[39mif\u001b[39;00m data \u001b[39mis\u001b[39;00m \u001b[39mNone\u001b[39;00m:\n\u001b[1;32m-> 1478\u001b[0m         \u001b[39mreturn\u001b[39;00m func(ax, \u001b[39m*\u001b[39;49m\u001b[39mmap\u001b[39;49m(sanitize_sequence, args), \u001b[39m*\u001b[39;49m\u001b[39m*\u001b[39;49mkwargs)\n\u001b[0;32m   1480\u001b[0m     bound \u001b[39m=\u001b[39m new_sig\u001b[39m.\u001b[39mbind(ax, \u001b[39m*\u001b[39margs, \u001b[39m*\u001b[39m\u001b[39m*\u001b[39mkwargs)\n\u001b[0;32m   1481\u001b[0m     auto_label \u001b[39m=\u001b[39m (bound\u001b[39m.\u001b[39marguments\u001b[39m.\u001b[39mget(label_namer)\n\u001b[0;32m   1482\u001b[0m                   \u001b[39mor\u001b[39;00m bound\u001b[39m.\u001b[39mkwargs\u001b[39m.\u001b[39mget(label_namer))\n",
            "File \u001b[1;32mc:\\Users\\WietsevanKooten\\anaconda3\\envs\\dl2023\\Lib\\site-packages\\matplotlib\\axes\\_axes.py:4652\u001b[0m, in \u001b[0;36mAxes.scatter\u001b[1;34m(self, x, y, s, c, marker, cmap, norm, vmin, vmax, alpha, linewidths, edgecolors, plotnonfinite, **kwargs)\u001b[0m\n\u001b[0;32m   4650\u001b[0m y \u001b[39m=\u001b[39m np\u001b[39m.\u001b[39mma\u001b[39m.\u001b[39mravel(y)\n\u001b[0;32m   4651\u001b[0m \u001b[39mif\u001b[39;00m x\u001b[39m.\u001b[39msize \u001b[39m!=\u001b[39m y\u001b[39m.\u001b[39msize:\n\u001b[1;32m-> 4652\u001b[0m     \u001b[39mraise\u001b[39;00m \u001b[39mValueError\u001b[39;00m(\u001b[39m\"\u001b[39m\u001b[39mx and y must be the same size\u001b[39m\u001b[39m\"\u001b[39m)\n\u001b[0;32m   4654\u001b[0m \u001b[39mif\u001b[39;00m s \u001b[39mis\u001b[39;00m \u001b[39mNone\u001b[39;00m:\n\u001b[0;32m   4655\u001b[0m     s \u001b[39m=\u001b[39m (\u001b[39m20\u001b[39m \u001b[39mif\u001b[39;00m mpl\u001b[39m.\u001b[39mrcParams[\u001b[39m'\u001b[39m\u001b[39m_internal.classic_mode\u001b[39m\u001b[39m'\u001b[39m] \u001b[39melse\u001b[39;00m\n\u001b[0;32m   4656\u001b[0m          mpl\u001b[39m.\u001b[39mrcParams[\u001b[39m'\u001b[39m\u001b[39mlines.markersize\u001b[39m\u001b[39m'\u001b[39m] \u001b[39m*\u001b[39m\u001b[39m*\u001b[39m \u001b[39m2.0\u001b[39m)\n",
            "\u001b[1;31mValueError\u001b[0m: x and y must be the same size"
          ]
        },
        {
          "data": {
            "image/png": "[encoded data removed]",
            "text/plain": [
              "<Figure size 640x480 with 1 Axes>"
            ]
          },
          "metadata": {},
          "output_type": "display_data"
        }
      ],
      "source": [
        "from matplotlib import axes\n",
        "#plot inference over accuracy @5\n",
        "model_names = ['VGG11', 'VGG11_bn', 'ResNet18', 'ResNet34', 'DenseNet121', 'MobileNet-v3-Small']\n",
        "#All accuracies are reported @1\n",
        "accuracy = [69.02, 70.37, 69.758, 73.314, 74.434,67.668]\n",
        "\n",
        "plt.scatter(inference_speed, accuracy)\n",
        "for i, name in enumerate(model_names): \n",
        "  xy = (inference_speed[i], accuracy[i])\n",
        "  plt.annotate(name, xy)\n",
        "plt.title('inference speed vs accuracy')\n",
        "plt.show()\n",
        "\n"
      ]
    },
    {
      "cell_type": "code",
      "execution_count": 10,
      "metadata": {
        "colab": {
          "base_uri": "https://localhost:8080/"
        },
        "id": "-eMKCnOCXOeR",
        "outputId": "ecddd99c-4e97-47e8-ad4a-e67a6a0f56d9"
      },
      "outputs": [
        {
          "ename": "RuntimeError",
          "evalue": "Tried to instantiate dummy base class Event",
          "output_type": "error",
          "traceback": [
            "\u001b[1;31m---------------------------------------------------------------------------\u001b[0m",
            "\u001b[1;31mRuntimeError\u001b[0m                              Traceback (most recent call last)",
            "\u001b[1;32mc:\\Users\\WietsevanKooten\\Documents\\studie\\Deep learning\\DL_assignment2\\assignment2_extra\\assignment2\\part1\\plot_torch_models.ipynb Cell 5\u001b[0m line \u001b[0;36m1\n\u001b[0;32m     <a href='vscode-notebook-cell:/c%3A/Users/WietsevanKooten/Documents/studie/Deep%20learning/DL_assignment2/assignment2_extra/assignment2/part1/plot_torch_models.ipynb#W4sZmlsZQ%3D%3D?line=9'>10</a>\u001b[0m   number_of_params \u001b[39m=\u001b[39m \u001b[39msum\u001b[39m([np\u001b[39m.\u001b[39mprod(p\u001b[39m.\u001b[39msize()) \u001b[39mfor\u001b[39;00m p \u001b[39min\u001b[39;00m model_parameters])\n\u001b[0;32m     <a href='vscode-notebook-cell:/c%3A/Users/WietsevanKooten/Documents/studie/Deep%20learning/DL_assignment2/assignment2_extra/assignment2/part1/plot_torch_models.ipynb#W4sZmlsZQ%3D%3D?line=11'>12</a>\u001b[0m params_list\u001b[39m.\u001b[39mappend(number_of_params)\n\u001b[1;32m---> <a href='vscode-notebook-cell:/c%3A/Users/WietsevanKooten/Documents/studie/Deep%20learning/DL_assignment2/assignment2_extra/assignment2/part1/plot_torch_models.ipynb#W4sZmlsZQ%3D%3D?line=13'>14</a>\u001b[0m start_time,end_time\u001b[39m=\u001b[39m torch\u001b[39m.\u001b[39;49mcuda\u001b[39m.\u001b[39;49mEvent(enable_timing\u001b[39m=\u001b[39;49m\u001b[39mTrue\u001b[39;49;00m), torch\u001b[39m.\u001b[39mcuda\u001b[39m.\u001b[39mEvent(enable_timing\u001b[39m=\u001b[39m\u001b[39mTrue\u001b[39;00m)\n\u001b[0;32m     <a href='vscode-notebook-cell:/c%3A/Users/WietsevanKooten/Documents/studie/Deep%20learning/DL_assignment2/assignment2_extra/assignment2/part1/plot_torch_models.ipynb#W4sZmlsZQ%3D%3D?line=14'>15</a>\u001b[0m repetitions \u001b[39m=\u001b[39m \u001b[39m100\u001b[39m\n\u001b[0;32m     <a href='vscode-notebook-cell:/c%3A/Users/WietsevanKooten/Documents/studie/Deep%20learning/DL_assignment2/assignment2_extra/assignment2/part1/plot_torch_models.ipynb#W4sZmlsZQ%3D%3D?line=15'>16</a>\u001b[0m timings\u001b[39m=\u001b[39mnp\u001b[39m.\u001b[39mzeros((repetitions,\u001b[39m1\u001b[39m))\n",
            "File \u001b[1;32mc:\\Users\\WietsevanKooten\\anaconda3\\envs\\dl2023\\Lib\\site-packages\\torch\\cuda\\streams.py:163\u001b[0m, in \u001b[0;36mEvent.__new__\u001b[1;34m(cls, enable_timing, blocking, interprocess)\u001b[0m\n\u001b[0;32m    162\u001b[0m \u001b[39mdef\u001b[39;00m \u001b[39m__new__\u001b[39m(\u001b[39mcls\u001b[39m, enable_timing\u001b[39m=\u001b[39m\u001b[39mFalse\u001b[39;00m, blocking\u001b[39m=\u001b[39m\u001b[39mFalse\u001b[39;00m, interprocess\u001b[39m=\u001b[39m\u001b[39mFalse\u001b[39;00m):\n\u001b[1;32m--> 163\u001b[0m     \u001b[39mreturn\u001b[39;00m \u001b[39msuper\u001b[39;49m()\u001b[39m.\u001b[39;49m\u001b[39m__new__\u001b[39;49m(\n\u001b[0;32m    164\u001b[0m         \u001b[39mcls\u001b[39;49m,\n\u001b[0;32m    165\u001b[0m         enable_timing\u001b[39m=\u001b[39;49menable_timing,\n\u001b[0;32m    166\u001b[0m         blocking\u001b[39m=\u001b[39;49mblocking,\n\u001b[0;32m    167\u001b[0m         interprocess\u001b[39m=\u001b[39;49minterprocess,\n\u001b[0;32m    168\u001b[0m     )\n",
            "File \u001b[1;32mc:\\Users\\WietsevanKooten\\anaconda3\\envs\\dl2023\\Lib\\site-packages\\torch\\cuda\\_utils.py:49\u001b[0m, in \u001b[0;36m_dummy_type.<locals>.get_err_fn.<locals>.err_fn\u001b[1;34m(obj, *args, **kwargs)\u001b[0m\n\u001b[0;32m     47\u001b[0m \u001b[39melse\u001b[39;00m:\n\u001b[0;32m     48\u001b[0m     class_name \u001b[39m=\u001b[39m obj\u001b[39m.\u001b[39m\u001b[39m__name__\u001b[39m\n\u001b[1;32m---> 49\u001b[0m \u001b[39mraise\u001b[39;00m \u001b[39mRuntimeError\u001b[39;00m(\u001b[39mf\u001b[39m\u001b[39m\"\u001b[39m\u001b[39mTried to instantiate dummy base class \u001b[39m\u001b[39m{\u001b[39;00mclass_name\u001b[39m}\u001b[39;00m\u001b[39m\"\u001b[39m)\n",
            "\u001b[1;31mRuntimeError\u001b[0m: Tried to instantiate dummy base class Event"
          ]
        }
      ],
      "source": [
        "params_list = []\n",
        "inference_speed_ = []\n",
        "\n",
        "\n",
        "for model in pretrained_models:\n",
        "  model.to(device)\n",
        "  model.eval()\n",
        "  with torch.no_grad():\n",
        "    model_parameters = filter(lambda p: p.requires_grad, model.parameters())\n",
        "    number_of_params = sum([np.prod(p.size()) for p in model_parameters])\n",
        "\n",
        "  params_list.append(number_of_params)\n",
        "\n",
        "  start_time,end_time= torch.cuda.Event(enable_timing=True), torch.cuda.Event(enable_timing=True)\n",
        "  repetitions = 100\n",
        "  timings=np.zeros((repetitions,1))\n",
        "\n",
        "  for i in range(10):\n",
        "      warm_up = model(random_image)\n",
        "      for repetition in range(repetitions):\n",
        "          start_time.record()\n",
        "          y_hat = model(random_image)\n",
        "          end_time.record()\n",
        "          # WAIT FOR GPU SYNC\n",
        "          torch.cuda.synchronize()\n",
        "          curr_time = start_time.elapsed_time(end_time)\n",
        "          timings[repetition] = curr_time\n",
        "  mean_syn = np.sum(timings) / repetitions\n",
        "  inference_speed_.append(mean_syn)\n",
        "  std_syn = np.std(timings)\n",
        "print(params_list)\n",
        "print(inference_speed)"
      ]
    },
    {
      "cell_type": "code",
      "execution_count": 11,
      "metadata": {
        "colab": {
          "base_uri": "https://localhost:8080/",
          "height": 296
        },
        "id": "erLc5q-nNlGB",
        "outputId": "9d978a0b-9757-4c57-9239-160870899d2b"
      },
      "outputs": [
        {
          "ename": "ValueError",
          "evalue": "shape mismatch: objects cannot be broadcast to a single shape.  Mismatch is between arg 0 with shape (6,) and arg 1 with shape (0,).",
          "output_type": "error",
          "traceback": [
            "\u001b[1;31m---------------------------------------------------------------------------\u001b[0m",
            "\u001b[1;31mValueError\u001b[0m                                Traceback (most recent call last)",
            "\u001b[1;32mc:\\Users\\WietsevanKooten\\Documents\\studie\\Deep learning\\DL_assignment2\\assignment2_extra\\assignment2\\part1\\plot_torch_models.ipynb Cell 6\u001b[0m line \u001b[0;36m4\n\u001b[0;32m      <a href='vscode-notebook-cell:/c%3A/Users/WietsevanKooten/Documents/studie/Deep%20learning/DL_assignment2/assignment2_extra/assignment2/part1/plot_torch_models.ipynb#W5sZmlsZQ%3D%3D?line=0'>1</a>\u001b[0m model_names \u001b[39m=\u001b[39m [\u001b[39m'\u001b[39m\u001b[39mVGG11\u001b[39m\u001b[39m'\u001b[39m, \u001b[39m'\u001b[39m\u001b[39mVGG11_bn\u001b[39m\u001b[39m'\u001b[39m, \u001b[39m'\u001b[39m\u001b[39mResNet18\u001b[39m\u001b[39m'\u001b[39m, \u001b[39m'\u001b[39m\u001b[39mResNet34\u001b[39m\u001b[39m'\u001b[39m, \u001b[39m'\u001b[39m\u001b[39mDenseNet121\u001b[39m\u001b[39m'\u001b[39m, \u001b[39m'\u001b[39m\u001b[39mMobileNet-v3-Small\u001b[39m\u001b[39m'\u001b[39m]\n\u001b[0;32m      <a href='vscode-notebook-cell:/c%3A/Users/WietsevanKooten/Documents/studie/Deep%20learning/DL_assignment2/assignment2_extra/assignment2/part1/plot_torch_models.ipynb#W5sZmlsZQ%3D%3D?line=1'>2</a>\u001b[0m X_axis \u001b[39m=\u001b[39m np\u001b[39m.\u001b[39marange(\u001b[39mlen\u001b[39m(model_names))\n\u001b[1;32m----> <a href='vscode-notebook-cell:/c%3A/Users/WietsevanKooten/Documents/studie/Deep%20learning/DL_assignment2/assignment2_extra/assignment2/part1/plot_torch_models.ipynb#W5sZmlsZQ%3D%3D?line=3'>4</a>\u001b[0m plt\u001b[39m.\u001b[39;49mbar(X_axis \u001b[39m-\u001b[39;49m \u001b[39m0.2\u001b[39;49m, inference_speed , \u001b[39m0.4\u001b[39;49m, label\u001b[39m=\u001b[39;49m\u001b[39m\"\u001b[39;49m\u001b[39mNo grad\u001b[39;49m\u001b[39m\"\u001b[39;49m)\n\u001b[0;32m      <a href='vscode-notebook-cell:/c%3A/Users/WietsevanKooten/Documents/studie/Deep%20learning/DL_assignment2/assignment2_extra/assignment2/part1/plot_torch_models.ipynb#W5sZmlsZQ%3D%3D?line=4'>5</a>\u001b[0m plt\u001b[39m.\u001b[39mbar(X_axis \u001b[39m+\u001b[39m \u001b[39m0.2\u001b[39m, inference_speed_, \u001b[39m0.4\u001b[39m,label\u001b[39m=\u001b[39m\u001b[39m\"\u001b[39m\u001b[39mWith grad\u001b[39m\u001b[39m\"\u001b[39m)\n\u001b[0;32m      <a href='vscode-notebook-cell:/c%3A/Users/WietsevanKooten/Documents/studie/Deep%20learning/DL_assignment2/assignment2_extra/assignment2/part1/plot_torch_models.ipynb#W5sZmlsZQ%3D%3D?line=7'>8</a>\u001b[0m plt\u001b[39m.\u001b[39mxticks(X_axis, model_names)\n",
            "File \u001b[1;32mc:\\Users\\WietsevanKooten\\anaconda3\\envs\\dl2023\\Lib\\site-packages\\matplotlib\\pyplot.py:2742\u001b[0m, in \u001b[0;36mbar\u001b[1;34m(x, height, width, bottom, align, data, **kwargs)\u001b[0m\n\u001b[0;32m   2731\u001b[0m \u001b[39m@_copy_docstring_and_deprecators\u001b[39m(Axes\u001b[39m.\u001b[39mbar)\n\u001b[0;32m   2732\u001b[0m \u001b[39mdef\u001b[39;00m \u001b[39mbar\u001b[39m(\n\u001b[0;32m   2733\u001b[0m     x: \u001b[39mfloat\u001b[39m \u001b[39m|\u001b[39m ArrayLike,\n\u001b[1;32m   (...)\u001b[0m\n\u001b[0;32m   2740\u001b[0m     \u001b[39m*\u001b[39m\u001b[39m*\u001b[39mkwargs,\n\u001b[0;32m   2741\u001b[0m ) \u001b[39m-\u001b[39m\u001b[39m>\u001b[39m BarContainer:\n\u001b[1;32m-> 2742\u001b[0m     \u001b[39mreturn\u001b[39;00m gca()\u001b[39m.\u001b[39;49mbar(\n\u001b[0;32m   2743\u001b[0m         x,\n\u001b[0;32m   2744\u001b[0m         height,\n\u001b[0;32m   2745\u001b[0m         width\u001b[39m=\u001b[39;49mwidth,\n\u001b[0;32m   2746\u001b[0m         bottom\u001b[39m=\u001b[39;49mbottom,\n\u001b[0;32m   2747\u001b[0m         align\u001b[39m=\u001b[39;49malign,\n\u001b[0;32m   2748\u001b[0m         \u001b[39m*\u001b[39;49m\u001b[39m*\u001b[39;49m({\u001b[39m\"\u001b[39;49m\u001b[39mdata\u001b[39;49m\u001b[39m\"\u001b[39;49m: data} \u001b[39mif\u001b[39;49;00m data \u001b[39mis\u001b[39;49;00m \u001b[39mnot\u001b[39;49;00m \u001b[39mNone\u001b[39;49;00m \u001b[39melse\u001b[39;49;00m {}),\n\u001b[0;32m   2749\u001b[0m         \u001b[39m*\u001b[39;49m\u001b[39m*\u001b[39;49mkwargs,\n\u001b[0;32m   2750\u001b[0m     )\n",
            "File \u001b[1;32mc:\\Users\\WietsevanKooten\\anaconda3\\envs\\dl2023\\Lib\\site-packages\\matplotlib\\__init__.py:1478\u001b[0m, in \u001b[0;36m_preprocess_data.<locals>.inner\u001b[1;34m(ax, data, *args, **kwargs)\u001b[0m\n\u001b[0;32m   1475\u001b[0m \u001b[39m@functools\u001b[39m\u001b[39m.\u001b[39mwraps(func)\n\u001b[0;32m   1476\u001b[0m \u001b[39mdef\u001b[39;00m \u001b[39minner\u001b[39m(ax, \u001b[39m*\u001b[39margs, data\u001b[39m=\u001b[39m\u001b[39mNone\u001b[39;00m, \u001b[39m*\u001b[39m\u001b[39m*\u001b[39mkwargs):\n\u001b[0;32m   1477\u001b[0m     \u001b[39mif\u001b[39;00m data \u001b[39mis\u001b[39;00m \u001b[39mNone\u001b[39;00m:\n\u001b[1;32m-> 1478\u001b[0m         \u001b[39mreturn\u001b[39;00m func(ax, \u001b[39m*\u001b[39;49m\u001b[39mmap\u001b[39;49m(sanitize_sequence, args), \u001b[39m*\u001b[39;49m\u001b[39m*\u001b[39;49mkwargs)\n\u001b[0;32m   1480\u001b[0m     bound \u001b[39m=\u001b[39m new_sig\u001b[39m.\u001b[39mbind(ax, \u001b[39m*\u001b[39margs, \u001b[39m*\u001b[39m\u001b[39m*\u001b[39mkwargs)\n\u001b[0;32m   1481\u001b[0m     auto_label \u001b[39m=\u001b[39m (bound\u001b[39m.\u001b[39marguments\u001b[39m.\u001b[39mget(label_namer)\n\u001b[0;32m   1482\u001b[0m                   \u001b[39mor\u001b[39;00m bound\u001b[39m.\u001b[39mkwargs\u001b[39m.\u001b[39mget(label_namer))\n",
            "File \u001b[1;32mc:\\Users\\WietsevanKooten\\anaconda3\\envs\\dl2023\\Lib\\site-packages\\matplotlib\\axes\\_axes.py:2457\u001b[0m, in \u001b[0;36mAxes.bar\u001b[1;34m(self, x, height, width, bottom, align, **kwargs)\u001b[0m\n\u001b[0;32m   2454\u001b[0m     \u001b[39mif\u001b[39;00m yerr \u001b[39mis\u001b[39;00m \u001b[39mnot\u001b[39;00m \u001b[39mNone\u001b[39;00m:\n\u001b[0;32m   2455\u001b[0m         yerr \u001b[39m=\u001b[39m \u001b[39mself\u001b[39m\u001b[39m.\u001b[39m_convert_dx(yerr, y0, y, \u001b[39mself\u001b[39m\u001b[39m.\u001b[39mconvert_yunits)\n\u001b[1;32m-> 2457\u001b[0m x, height, width, y, linewidth, hatch \u001b[39m=\u001b[39m np\u001b[39m.\u001b[39;49mbroadcast_arrays(\n\u001b[0;32m   2458\u001b[0m     \u001b[39m# Make args iterable too.\u001b[39;49;00m\n\u001b[0;32m   2459\u001b[0m     np\u001b[39m.\u001b[39;49matleast_1d(x), height, width, y, linewidth, hatch)\n\u001b[0;32m   2461\u001b[0m \u001b[39m# Now that units have been converted, set the tick locations.\u001b[39;00m\n\u001b[0;32m   2462\u001b[0m \u001b[39mif\u001b[39;00m orientation \u001b[39m==\u001b[39m \u001b[39m'\u001b[39m\u001b[39mvertical\u001b[39m\u001b[39m'\u001b[39m:\n",
            "File \u001b[1;32mc:\\Users\\WietsevanKooten\\anaconda3\\envs\\dl2023\\Lib\\site-packages\\numpy\\lib\\stride_tricks.py:540\u001b[0m, in \u001b[0;36mbroadcast_arrays\u001b[1;34m(subok, *args)\u001b[0m\n\u001b[0;32m    533\u001b[0m \u001b[39m# nditer is not used here to avoid the limit of 32 arrays.\u001b[39;00m\n\u001b[0;32m    534\u001b[0m \u001b[39m# Otherwise, something like the following one-liner would suffice:\u001b[39;00m\n\u001b[0;32m    535\u001b[0m \u001b[39m# return np.nditer(args, flags=['multi_index', 'zerosize_ok'],\u001b[39;00m\n\u001b[0;32m    536\u001b[0m \u001b[39m#                  order='C').itviews\u001b[39;00m\n\u001b[0;32m    538\u001b[0m args \u001b[39m=\u001b[39m [np\u001b[39m.\u001b[39marray(_m, copy\u001b[39m=\u001b[39m\u001b[39mFalse\u001b[39;00m, subok\u001b[39m=\u001b[39msubok) \u001b[39mfor\u001b[39;00m _m \u001b[39min\u001b[39;00m args]\n\u001b[1;32m--> 540\u001b[0m shape \u001b[39m=\u001b[39m _broadcast_shape(\u001b[39m*\u001b[39;49margs)\n\u001b[0;32m    542\u001b[0m \u001b[39mif\u001b[39;00m \u001b[39mall\u001b[39m(array\u001b[39m.\u001b[39mshape \u001b[39m==\u001b[39m shape \u001b[39mfor\u001b[39;00m array \u001b[39min\u001b[39;00m args):\n\u001b[0;32m    543\u001b[0m     \u001b[39m# Common case where nothing needs to be broadcasted.\u001b[39;00m\n\u001b[0;32m    544\u001b[0m     \u001b[39mreturn\u001b[39;00m args\n",
            "File \u001b[1;32mc:\\Users\\WietsevanKooten\\anaconda3\\envs\\dl2023\\Lib\\site-packages\\numpy\\lib\\stride_tricks.py:422\u001b[0m, in \u001b[0;36m_broadcast_shape\u001b[1;34m(*args)\u001b[0m\n\u001b[0;32m    417\u001b[0m \u001b[39m\u001b[39m\u001b[39m\"\"\"Returns the shape of the arrays that would result from broadcasting the\u001b[39;00m\n\u001b[0;32m    418\u001b[0m \u001b[39msupplied arrays against each other.\u001b[39;00m\n\u001b[0;32m    419\u001b[0m \u001b[39m\"\"\"\u001b[39;00m\n\u001b[0;32m    420\u001b[0m \u001b[39m# use the old-iterator because np.nditer does not handle size 0 arrays\u001b[39;00m\n\u001b[0;32m    421\u001b[0m \u001b[39m# consistently\u001b[39;00m\n\u001b[1;32m--> 422\u001b[0m b \u001b[39m=\u001b[39m np\u001b[39m.\u001b[39;49mbroadcast(\u001b[39m*\u001b[39;49margs[:\u001b[39m32\u001b[39;49m])\n\u001b[0;32m    423\u001b[0m \u001b[39m# unfortunately, it cannot handle 32 or more arguments directly\u001b[39;00m\n\u001b[0;32m    424\u001b[0m \u001b[39mfor\u001b[39;00m pos \u001b[39min\u001b[39;00m \u001b[39mrange\u001b[39m(\u001b[39m32\u001b[39m, \u001b[39mlen\u001b[39m(args), \u001b[39m31\u001b[39m):\n\u001b[0;32m    425\u001b[0m     \u001b[39m# ironically, np.broadcast does not properly handle np.broadcast\u001b[39;00m\n\u001b[0;32m    426\u001b[0m     \u001b[39m# objects (it treats them as scalars)\u001b[39;00m\n\u001b[0;32m    427\u001b[0m     \u001b[39m# use broadcasting to avoid allocating the full array\u001b[39;00m\n",
            "\u001b[1;31mValueError\u001b[0m: shape mismatch: objects cannot be broadcast to a single shape.  Mismatch is between arg 0 with shape (6,) and arg 1 with shape (0,)."
          ]
        },
        {
          "data": {
            "image/png": "[encoded data removed]",
            "text/plain": [
              "<Figure size 640x480 with 1 Axes>"
            ]
          },
          "metadata": {},
          "output_type": "display_data"
        }
      ],
      "source": [
        "model_names = ['VGG11', 'VGG11_bn', 'ResNet18', 'ResNet34', 'DenseNet121', 'MobileNet-v3-Small']\n",
        "X_axis = np.arange(len(model_names))\n",
        "\n",
        "plt.bar(X_axis - 0.2, inference_speed , 0.4, label=\"No grad\")\n",
        "plt.bar(X_axis + 0.2, inference_speed_, 0.4,label=\"With grad\")\n",
        "\n",
        "  \n",
        "plt.xticks(X_axis, model_names)\n",
        "plt.xlabel(\"Models\")\n",
        "plt.ylabel(\"Inference time\")\n",
        "plt.title(\"Inference time used with/without grad\")\n",
        "\n",
        "plt.legend()\n",
        "plt.show()"
      ]
    },
    {
      "cell_type": "code",
      "execution_count": 7,
      "metadata": {
        "colab": {
          "base_uri": "https://localhost:8080/",
          "height": 294
        },
        "id": "n6JmI_Sj7Fmf",
        "outputId": "ae8512fc-1325-4f8e-8feb-80a18aad756f"
      },
      "outputs": [
        {
          "data": {
            "image/png": "[encoded data removed]",
            "text/plain": [
              "<Figure size 432x288 with 1 Axes>"
            ]
          },
          "metadata": {
            "needs_background": "light"
          },
          "output_type": "display_data"
        }
      ],
      "source": [
        "#plot inference over parameters \n",
        "\n",
        "plt.scatter(params_list ,accuracy)\n",
        "for i, name in enumerate(model_names): \n",
        "  xy = (params_list[i], accuracy[i])\n",
        "  plt.annotate(name, xy)\n",
        "plt.title('parameters vs accuracy')\n",
        "plt.show()\n"
      ]
    },
    {
      "cell_type": "code",
      "execution_count": 8,
      "metadata": {
        "id": "Cir2a1j27JG9"
      },
      "outputs": [],
      "source": [
        "#plot inference over RAM usage with vs without no-grad \n",
        "\n",
        "#function with no grad\n",
        "mem_no_grad = []\n",
        "random_image_64 = torch.randn(64, 3,224,224).to(device)\n",
        "for model in pretrained_models:\n",
        "  with torch.no_grad():\n",
        "      model.to(device)\n",
        "      model.eval()\n",
        "      y_hat = model(random_image_64)\n",
        "      mem_no_grad.append(torch.cuda.memory_allocated()/1000000)\n",
        "      torch.cuda.empty_cache()\n",
        "  del model\n",
        "\n"
      ]
    },
    {
      "cell_type": "code",
      "execution_count": 9,
      "metadata": {
        "colab": {
          "base_uri": "https://localhost:8080/"
        },
        "id": "ipG0HqAGq3F4",
        "outputId": "522c25df-4493-4762-c7ae-8483ded9c201"
      },
      "outputs": [
        {
          "name": "stdout",
          "output_type": "stream",
          "text": [
            "Evaluating <class 'torchvision.models.vgg.VGG'>...\n",
            "Evaluating <class 'torchvision.models.vgg.VGG'>...\n",
            "Evaluating <class 'torchvision.models.resnet.ResNet'>...\n",
            "Evaluating <class 'torchvision.models.resnet.ResNet'>...\n",
            "Evaluating <class 'torchvision.models.densenet.DenseNet'>...\n",
            "Evaluating <class 'torchvision.models.mobilenetv3.MobileNetV3'>...\n"
          ]
        }
      ],
      "source": [
        "#from torch.nn.modules.container import ModuleList\n",
        "#import tqdm\n",
        "#plot inference over RAM usage with vs without no-grad \n",
        "\n",
        "#function with grad\n",
        "mem_with_grad = []\n",
        "random_image_64 = torch.randn(64, 3,224,224).to(device)\n",
        "for model in pretrained_models:\n",
        "  print(f'Evaluating {model.__class__}...')\n",
        "  model.to(device)\n",
        "  model.eval()\n",
        "  warm_up = model(random_image)\n",
        "  mem_with_grad.append(torch.cuda.memory_allocated()/1000000)\n",
        "  del model \n"
      ]
    },
    {
      "cell_type": "code",
      "execution_count": 10,
      "metadata": {
        "colab": {
          "base_uri": "https://localhost:8080/",
          "height": 296
        },
        "id": "vi5pf23-cwY2",
        "outputId": "4aeaf90f-6d36-4861-c127-8d43fecd57a9"
      },
      "outputs": [
        {
          "data": {
            "image/png": "[encoded data removed]",
            "text/plain": [
              "<Figure size 432x288 with 1 Axes>"
            ]
          },
          "metadata": {
            "needs_background": "light"
          },
          "output_type": "display_data"
        }
      ],
      "source": [
        "model_names = ['VGG11', 'VGG11_bn', 'ResNet18', 'ResNet34', 'DenseNet121', 'MobileNet-v3-Small']\n",
        "X_axis = np.arange(len(model_names))\n",
        "\n",
        "plt.bar(X_axis - 0.2, mem_no_grad, 0.4, label=\"No grad\")\n",
        "plt.bar(X_axis + 0.2, mem_with_grad, 0.4, label=\"With grad\")\n",
        "\n",
        "  \n",
        "plt.xticks(X_axis, model_names)\n",
        "plt.xlabel(\"Models\")\n",
        "plt.ylabel(\"Memory allocating\")\n",
        "plt.title(\"Memory used per model\")\n",
        "plt.legend()\n",
        "plt.show()"
      ]
    }
  ],
  "metadata": {
    "accelerator": "GPU",
    "colab": {
      "provenance": []
    },
    "gpuClass": "standard",
    "kernelspec": {
      "display_name": "Python 3",
      "name": "python3"
    },
    "language_info": {
      "codemirror_mode": {
        "name": "ipython",
        "version": 3
      },
      "file_extension": ".py",
      "mimetype": "text/x-python",
      "name": "python",
      "nbconvert_exporter": "python",
      "pygments_lexer": "ipython3",
      "version": "3.11.5"
    }
  },
  "nbformat": 4,
  "nbformat_minor": 0
}
